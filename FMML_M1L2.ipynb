{
  "cells": [
    {
      "cell_type": "markdown",
      "metadata": {
        "id": "view-in-github",
        "colab_type": "text"
      },
      "source": [
        "<a href=\"https://colab.research.google.com/github/Battula888/FMML-LAB/blob/main/FMML_M1L2.ipynb\" target=\"_parent\"><img src=\"https://colab.research.google.com/assets/colab-badge.svg\" alt=\"Open In Colab\"/></a>"
      ]
    },
    {
      "cell_type": "markdown",
      "metadata": {
        "id": "3Eu9VZbF01eq"
      },
      "source": [
        "# Machine Learning terms and metrics\n",
        "\n",
        "FMML Module 1, Lab 2\n",
        "\n",
        "In this lab, we will show a part of the ML pipeline by using the California Housing dataset. There are 20640 samples, each with 8 attributes like income of the block, age of the houses per district etc. The task is to predict the cost of the houses per district. We will use the scikit-learn library to load the data and perform some basic data preprocessing and model training. We will also show how to evaluate the model using some common metrics, split the data into training and testing sets, and use cross-validation to get a better estimate of the model's performance."
      ]
    },
    {
      "cell_type": "code",
      "execution_count": null,
      "metadata": {
        "id": "8qBvyEem0vLi"
      },
      "outputs": [],
      "source": [
        "import numpy as np\n",
        "from sklearn import datasets\n",
        "import matplotlib.pyplot as plt\n",
        "\n",
        "rng = np.random.default_rng(seed=42)"
      ]
    },
    {
      "cell_type": "code",
      "execution_count": null,
      "metadata": {
        "colab": {
          "base_uri": "https://localhost:8080/"
        },
        "id": "8LpqjN991GGJ",
        "outputId": "6f379d6f-dc2c-427a-93f7-587d7b909a5a"
      },
      "outputs": [
        {
          "output_type": "stream",
          "name": "stdout",
          "text": [
            ".. _california_housing_dataset:\n",
            "\n",
            "California Housing dataset\n",
            "--------------------------\n",
            "\n",
            "**Data Set Characteristics:**\n",
            "\n",
            "    :Number of Instances: 20640\n",
            "\n",
            "    :Number of Attributes: 8 numeric, predictive attributes and the target\n",
            "\n",
            "    :Attribute Information:\n",
            "        - MedInc        median income in block group\n",
            "        - HouseAge      median house age in block group\n",
            "        - AveRooms      average number of rooms per household\n",
            "        - AveBedrms     average number of bedrooms per household\n",
            "        - Population    block group population\n",
            "        - AveOccup      average number of household members\n",
            "        - Latitude      block group latitude\n",
            "        - Longitude     block group longitude\n",
            "\n",
            "    :Missing Attribute Values: None\n",
            "\n",
            "This dataset was obtained from the StatLib repository.\n",
            "https://www.dcc.fc.up.pt/~ltorgo/Regression/cal_housing.html\n",
            "\n",
            "The target variable is the median house value for California districts,\n",
            "expressed in hundreds of thousands of dollars ($100,000).\n",
            "\n",
            "This dataset was derived from the 1990 U.S. census, using one row per census\n",
            "block group. A block group is the smallest geographical unit for which the U.S.\n",
            "Census Bureau publishes sample data (a block group typically has a population\n",
            "of 600 to 3,000 people).\n",
            "\n",
            "A household is a group of people residing within a home. Since the average\n",
            "number of rooms and bedrooms in this dataset are provided per household, these\n",
            "columns may take surprisingly large values for block groups with few households\n",
            "and many empty houses, such as vacation resorts.\n",
            "\n",
            "It can be downloaded/loaded using the\n",
            ":func:`sklearn.datasets.fetch_california_housing` function.\n",
            "\n",
            ".. topic:: References\n",
            "\n",
            "    - Pace, R. Kelley and Ronald Barry, Sparse Spatial Autoregressions,\n",
            "      Statistics and Probability Letters, 33 (1997) 291-297\n",
            "\n"
          ]
        }
      ],
      "source": [
        "dataset = datasets.fetch_california_housing()\n",
        "# Dataset description\n",
        "print(dataset.DESCR)"
      ]
    },
    {
      "cell_type": "markdown",
      "metadata": {
        "id": "PCe1VNftevgE"
      },
      "source": [
        "Given below are the list of target values. These correspond to the house value derived considering all the 8 input features and are continuous values. We should use regression models to predict these values but we will start with a simple classification model for the sake of simplicity. We need to just round off the values to the nearest integer and use a classification model to predict the house value."
      ]
    },
    {
      "cell_type": "code",
      "execution_count": null,
      "metadata": {
        "colab": {
          "base_uri": "https://localhost:8080/"
        },
        "id": "F8K0ggBOevgE",
        "outputId": "f71dd070-d8a0-41e1-b595-107fec9f47e8"
      },
      "outputs": [
        {
          "output_type": "stream",
          "name": "stdout",
          "text": [
            "Orignal target values: [4.526 3.585 3.521 ... 0.923 0.847 0.894]\n",
            "Target values after conversion: [4 3 3 ... 0 0 0]\n",
            "Input variables shape: (20640, 8)\n",
            "Output variables shape: (20640,)\n"
          ]
        }
      ],
      "source": [
        "print(\"Orignal target values:\", dataset.target)\n",
        "\n",
        "dataset.target = dataset.target.astype(int)\n",
        "\n",
        "print(\"Target values after conversion:\", dataset.target)\n",
        "print(\"Input variables shape:\", dataset.data.shape)\n",
        "print(\"Output variables shape:\", dataset.target.shape)"
      ]
    },
    {
      "cell_type": "markdown",
      "metadata": {
        "id": "iNx4174W5xRg"
      },
      "source": [
        "The simplest model to use for classification is the K-Nearest Neighbors model. We will use this model to predict the house value with a K value of 1. We will also use the accuracy metric to evaluate the model."
      ]
    },
    {
      "cell_type": "code",
      "execution_count": null,
      "metadata": {
        "id": "07zpydQj1hIQ"
      },
      "outputs": [],
      "source": [
        "def NN1(traindata, trainlabel, query):\n",
        "    \"\"\"\n",
        "    This function takes in the training data, training labels and a query point\n",
        "    and returns the predicted label for the query point using the nearest neighbour algorithm\n",
        "\n",
        "    traindata: numpy array of shape (n,d) where n is the number of samples and d is the number of features\n",
        "    trainlabel: numpy array of shape (n,) where n is the number of samples\n",
        "    query: numpy array of shape (d,) where d is the number of features\n",
        "\n",
        "    returns: the predicted label for the query point which is the label of the training data which is closest to the query point\n",
        "    \"\"\"\n",
        "    diff = (\n",
        "        traindata - query\n",
        "    )  # find the difference between features. Numpy automatically takes care of the size here\n",
        "    sq = diff * diff  # square the differences\n",
        "    dist = sq.sum(1)  # add up the squares\n",
        "    label = trainlabel[np.argmin(dist)]\n",
        "    return label\n",
        "\n",
        "\n",
        "def NN(traindata, trainlabel, testdata):\n",
        "    \"\"\"\n",
        "    This function takes in the training data, training labels and test data\n",
        "    and returns the predicted labels for the test data using the nearest neighbour algorithm\n",
        "\n",
        "    traindata: numpy array of shape (n,d) where n is the number of samples and d is the number of features\n",
        "    trainlabel: numpy array of shape (n,) where n is the number of samples\n",
        "    testdata: numpy array of shape (m,d) where m is the number of test samples and d is the number of features\n",
        "\n",
        "    returns: the predicted labels for the test data which is the label of the training data which is closest to each test point\n",
        "    \"\"\"\n",
        "    predlabel = np.array([NN1(traindata, trainlabel, i) for i in testdata])\n",
        "    return predlabel"
      ]
    },
    {
      "cell_type": "markdown",
      "metadata": {
        "id": "03JktkfIGaje"
      },
      "source": [
        "We will also define a 'random classifier', which randomly allots labels to each sample"
      ]
    },
    {
      "cell_type": "code",
      "execution_count": null,
      "metadata": {
        "id": "fogWAtjyGhAH"
      },
      "outputs": [],
      "source": [
        "def RandomClassifier(traindata, trainlabel, testdata):\n",
        "    \"\"\"\n",
        "    This function takes in the training data, training labels and test data\n",
        "    and returns the predicted labels for the test data using the random classifier algorithm\n",
        "\n",
        "    In reality, we don't need these arguments but we are passing them to keep the function signature consistent with other classifiers\n",
        "\n",
        "    traindata: numpy array of shape (n,d) where n is the number of samples and d is the number of features\n",
        "    trainlabel: numpy array of shape (n,) where n is the number of samples\n",
        "    testdata: numpy array of shape (m,d) where m is the number of test samples and d is the number of features\n",
        "\n",
        "    returns: the predicted labels for the test data which is a random label from the training data\n",
        "    \"\"\"\n",
        "\n",
        "    classes = np.unique(trainlabel)\n",
        "    rints = rng.integers(low=0, high=len(classes), size=len(testdata))\n",
        "    predlabel = classes[rints]\n",
        "    return predlabel"
      ]
    },
    {
      "cell_type": "markdown",
      "metadata": {
        "id": "1Hjf1KHs7fU5"
      },
      "source": [
        "We need a metric to evaluate the performance of the model. Let us define a metric 'Accuracy' to see how good our learning algorithm is. Accuracy is the ratio of the number of correctly classified samples to the total number of samples. The higher the accuracy, the better the algorithm. We will use the accuracy metric to evaluate and compate the performance of the K-Nearest Neighbors model and the random classifier."
      ]
    },
    {
      "cell_type": "code",
      "execution_count": null,
      "metadata": {
        "id": "ouuCqWU07bz-"
      },
      "outputs": [],
      "source": [
        "def Accuracy(gtlabel, predlabel):\n",
        "    \"\"\"\n",
        "    This function takes in the ground-truth labels and predicted labels\n",
        "    and returns the accuracy of the classifier\n",
        "\n",
        "    gtlabel: numpy array of shape (n,) where n is the number of samples\n",
        "    predlabel: numpy array of shape (n,) where n is the number of samples\n",
        "\n",
        "    returns: the accuracy of the classifier which is the number of correct predictions divided by the total number of predictions\n",
        "    \"\"\"\n",
        "    assert len(gtlabel) == len(\n",
        "        predlabel\n",
        "    ), \"Length of the ground-truth labels and predicted labels should be the same\"\n",
        "    correct = (\n",
        "        gtlabel == predlabel\n",
        "    ).sum()  # count the number of times the groundtruth label is equal to the predicted label.\n",
        "    return correct / len(gtlabel)"
      ]
    },
    {
      "cell_type": "markdown",
      "metadata": {
        "id": "4vJFwBFa9Klw"
      },
      "source": [
        "Let us make a function to split the dataset with the desired probability. We will use this function to split the dataset into training and testing sets. We will use the training set to train the model and the testing set to evaluate the model."
      ]
    },
    {
      "cell_type": "code",
      "execution_count": null,
      "metadata": {
        "id": "Ko0VzpSM2Tdi"
      },
      "outputs": [],
      "source": [
        "def split(data, label, percent):\n",
        "    # generate a random number for each sample\n",
        "    rnd = rng.random(len(label))\n",
        "    split1 = rnd < percent\n",
        "    split2 = rnd >= percent\n",
        "\n",
        "    split1data = data[split1, :]\n",
        "    split1label = label[split1]\n",
        "    split2data = data[split2, :]\n",
        "    split2label = label[split2]\n",
        "    return split1data, split1label, split2data, split2label"
      ]
    },
    {
      "cell_type": "markdown",
      "metadata": {
        "id": "AcK3LEAJ_LGC"
      },
      "source": [
        "We will reserve 20% of our dataset as the test set. We will not change this portion throughout our experiments"
      ]
    },
    {
      "cell_type": "code",
      "execution_count": null,
      "metadata": {
        "colab": {
          "base_uri": "https://localhost:8080/"
        },
        "id": "bBZkHBLJ1iU-",
        "outputId": "73ffc0bd-354d-4051-f17a-c6adebdd58fe"
      },
      "outputs": [
        {
          "output_type": "stream",
          "name": "stdout",
          "text": [
            "Number of test samples: 4144\n",
            "Number of train samples: 16496\n",
            "Percent of test data: 20.07751937984496 %\n"
          ]
        }
      ],
      "source": [
        "testdata, testlabel, alltraindata, alltrainlabel = split(\n",
        "    dataset.data, dataset.target, 20 / 100\n",
        ")\n",
        "print(\"Number of test samples:\", len(testlabel))\n",
        "print(\"Number of train samples:\", len(alltrainlabel))\n",
        "print(\"Percent of test data:\", len(testlabel) * 100 / len(dataset.target), \"%\")"
      ]
    },
    {
      "cell_type": "markdown",
      "metadata": {
        "id": "a6Ss0Z6IAGNV"
      },
      "source": [
        "## Experiments with splits\n",
        "\n",
        "Let us reserve some of our train data as a validation set"
      ]
    },
    {
      "cell_type": "code",
      "execution_count": null,
      "metadata": {
        "id": "WFew2iry_7W7"
      },
      "outputs": [],
      "source": [
        "traindata, trainlabel, valdata, vallabel = split(\n",
        "    alltraindata, alltrainlabel, 75 / 100)"
      ]
    },
    {
      "cell_type": "markdown",
      "metadata": {
        "id": "60hiu4clFN1i"
      },
      "source": [
        "What is the accuracy of our classifiers on the train dataset?"
      ]
    },
    {
      "cell_type": "code",
      "execution_count": null,
      "metadata": {
        "colab": {
          "base_uri": "https://localhost:8080/"
        },
        "id": "DBlZDTHUFTZx",
        "outputId": "2d0ed616-7ece-4d8f-8f8d-cb1eb48f7385"
      },
      "outputs": [
        {
          "output_type": "stream",
          "name": "stdout",
          "text": [
            "Training accuracy using nearest neighbour algorithm: 100.0 %\n",
            "Training accuracy using random classifier:  16.4375808538163 %\n"
          ]
        }
      ],
      "source": [
        "trainpred = NN(traindata, trainlabel, traindata)\n",
        "trainAccuracy = Accuracy(trainlabel, trainpred)\n",
        "print(\"Training accuracy using nearest neighbour algorithm:\", trainAccuracy*100, \"%\")\n",
        "\n",
        "trainpred = RandomClassifier(traindata, trainlabel, traindata)\n",
        "trainAccuracy = Accuracy(trainlabel, trainpred)\n",
        "print(\"Training accuracy using random classifier: \", trainAccuracy*100, \"%\")"
      ]
    },
    {
      "cell_type": "markdown",
      "metadata": {
        "id": "7h08-9gJDtSy"
      },
      "source": [
        "For nearest neighbour, the train accuracy is always 1. The accuracy of the random classifier is close to 1/(number of classes) which is 0.1666 in our case. This is because the random classifier randomly assigns a label to each sample and the probability of assigning the correct label is 1/(number of classes). Let us predict the labels for our validation set and get the accuracy. This accuracy is a good estimate of the accuracy of our model on unseen data."
      ]
    },
    {
      "cell_type": "code",
      "execution_count": null,
      "metadata": {
        "colab": {
          "base_uri": "https://localhost:8080/"
        },
        "id": "4h7bXoW_2H3v",
        "outputId": "ab09a4be-1b0e-4db2-ef67-a4b5f41c48fe"
      },
      "outputs": [
        {
          "output_type": "stream",
          "name": "stdout",
          "text": [
            "Validation accuracy using nearest neighbour algorithm: 34.10852713178294 %\n",
            "Validation accuracy using random classifier: 16.884689922480618 %\n"
          ]
        }
      ],
      "source": [
        "valpred = NN(traindata, trainlabel, valdata)\n",
        "valAccuracy = Accuracy(vallabel, valpred)\n",
        "print(\"Validation accuracy using nearest neighbour algorithm:\", valAccuracy*100, \"%\")\n",
        "\n",
        "\n",
        "valpred = RandomClassifier(traindata, trainlabel, valdata)\n",
        "valAccuracy = Accuracy(vallabel, valpred)\n",
        "print(\"Validation accuracy using random classifier:\", valAccuracy*100, \"%\")"
      ]
    },
    {
      "cell_type": "markdown",
      "metadata": {
        "id": "py9bLguFEjfg"
      },
      "source": [
        "Validation accuracy of nearest neighbour is considerably less than its train accuracy while the validation accuracy of random classifier is the same. However, the validation accuracy of nearest neighbour is twice that of the random classifier. Now let us try another random split and check the validation accuracy. We will see that the validation accuracy changes with the split. This is because the validation set is small and the accuracy is highly dependent on the samples in the validation set. We can get a better estimate of the accuracy by using cross-validation."
      ]
    },
    {
      "cell_type": "code",
      "execution_count": null,
      "metadata": {
        "colab": {
          "base_uri": "https://localhost:8080/"
        },
        "id": "ujm3cyYzEntE",
        "outputId": "8e5506e9-474c-4fd6-d7a6-b14aa1b8b8d1"
      },
      "outputs": [
        {
          "output_type": "stream",
          "name": "stdout",
          "text": [
            "Validation accuracy using nearest neighbour algorithm: 34.048257372654156 %\n"
          ]
        }
      ],
      "source": [
        "traindata, trainlabel, valdata, vallabel = split(\n",
        "    alltraindata, alltrainlabel, 75 / 100)\n",
        "valpred = NN(traindata, trainlabel, valdata)\n",
        "valAccuracy = Accuracy(vallabel, valpred)\n",
        "print(\"Validation accuracy using nearest neighbour algorithm:\", valAccuracy*100, \"%\")"
      ]
    },
    {
      "cell_type": "markdown",
      "metadata": {
        "id": "oSOx7U83EKie"
      },
      "source": [
        "You can run the above cell multiple times to try with different random splits.\n",
        "We notice that the accuracy is different for each run, but close together.\n",
        "\n",
        "Now let us compare it with the accuracy we get on the test dataset."
      ]
    },
    {
      "cell_type": "code",
      "execution_count": null,
      "metadata": {
        "colab": {
          "base_uri": "https://localhost:8080/"
        },
        "id": "PNEZ5ToYBEDW",
        "outputId": "2487fee9-0efc-4ce9-8b76-c8fd90b0c94a"
      },
      "outputs": [
        {
          "output_type": "stream",
          "name": "stdout",
          "text": [
            "Test accuracy: 34.91795366795367 %\n"
          ]
        }
      ],
      "source": [
        "testpred = NN(alltraindata, alltrainlabel, testdata)\n",
        "testAccuracy = Accuracy(testlabel, testpred)\n",
        "\n",
        "print(\"Test accuracy:\", testAccuracy*100, \"%\")"
      ]
    },
    {
      "cell_type": "markdown",
      "metadata": {
        "id": "w3dGD531K3gH"
      },
      "source": [
        "### Try it out for yourself and answer:\n",
        "1. How is the accuracy of the validation set affected if we increase the percentage of validation set? What happens when we reduce it?\n",
        "2. How does the size of the train and validation set affect how well we can predict the accuracy on the test set using the validation set?\n",
        "3. What do you think is a good percentage to reserve for the validation set so that thest two factors are balanced?\n",
        "\n",
        "Answer for both nearest neighbour and random classifier. You can note down the values for your experiments and plot a graph using  <a href=https://matplotlib.org/stable/gallery/lines_bars_and_markers/step_demo.html#sphx-glr-gallery-lines-bars-and-markers-step-demo-py>plt.plot<href>. Check also for extreme values for splits, like 99.9% or 0.1%"
      ]
    },
    {
      "cell_type": "markdown",
      "metadata": {
        "id": "M9zvdYY6evgI"
      },
      "source": [
        "> Exercise: Try to implement a 3 nearest neighbour classifier and compare the accuracy of the 1 nearest neighbour classifier and the 3 nearest neighbour classifier on the test dataset. You can use the KNeighborsClassifier class from the scikit-learn library to implement the K-Nearest Neighbors model. You can set the number of neighbors using the n_neighbors parameter. You can also use the accuracy_score function from the scikit-learn library to calculate the accuracy of the model."
      ]
    },
    {
      "cell_type": "markdown",
      "metadata": {
        "id": "PnYvkAZLQY7h"
      },
      "source": [
        "## Multiple Splits\n",
        "\n",
        "One way to get more accurate estimates for the test accuracy is by using <b>cross-validation</b>. Here, we will try a simple version, where we do multiple train/val splits and take the average of validation accuracies as the test accuracy estimation. Here is a function for doing this. Note that this function will take a long time to execute. You can reduce the number of splits to make it faster."
      ]
    },
    {
      "cell_type": "code",
      "execution_count": null,
      "metadata": {
        "id": "E4nGCUQXBTzo"
      },
      "outputs": [],
      "source": [
        "def AverageAccuracy(alldata, alllabel, splitpercent, iterations, classifier=NN):\n",
        "    \"\"\"\n",
        "    This function takes in the data, labels, split percentage, number of iterations and classifier function\n",
        "    and returns the average accuracy of the classifier\n",
        "\n",
        "    alldata: numpy array of shape (n,d) where n is the number of samples and d is the number of features\n",
        "    alllabel: numpy array of shape (n,) where n is the number of samples\n",
        "    splitpercent: float which is the percentage of data to be used for training\n",
        "    iterations: int which is the number of iterations to run the classifier\n",
        "    classifier: function which is the classifier function to be used\n",
        "\n",
        "    returns: the average accuracy of the classifier\n",
        "    \"\"\"\n",
        "    accuracy = 0\n",
        "    for ii in range(iterations):\n",
        "        traindata, trainlabel, valdata, vallabel = split(\n",
        "            alldata, alllabel, splitpercent\n",
        "        )\n",
        "        valpred = classifier(traindata, trainlabel, valdata)\n",
        "        accuracy += Accuracy(vallabel, valpred)\n",
        "    return accuracy / iterations  # average of all accuracies"
      ]
    },
    {
      "cell_type": "code",
      "execution_count": null,
      "metadata": {
        "colab": {
          "base_uri": "https://localhost:8080/"
        },
        "id": "H3qtNar7Bbik",
        "outputId": "5a5a53ec-beea-4f7f-cefc-79f74cceb1bd"
      },
      "outputs": [
        {
          "output_type": "stream",
          "name": "stdout",
          "text": [
            "Average validation accuracy: 33.58463539517022 %\n",
            "Test accuracy: 34.91795366795367 %\n"
          ]
        }
      ],
      "source": [
        "avg_acc = AverageAccuracy(alltraindata, alltrainlabel, 75 / 100, 10, classifier=NN)\n",
        "print(\"Average validation accuracy:\", avg_acc*100, \"%\")\n",
        "testpred = NN(alltraindata, alltrainlabel, testdata)\n",
        "\n",
        "print(\"Test accuracy:\", Accuracy(testlabel, testpred)*100, \"%\")"
      ]
    },
    {
      "cell_type": "markdown",
      "metadata": {
        "id": "33GIn4x5VH-d"
      },
      "source": [
        "This is a very simple way of doing cross-validation. There are many well-known algorithms for cross-validation, like k-fold cross-validation, leave-one-out etc. This will be covered in detail in a later module. For more information about cross-validation, check <a href=https://en.wikipedia.org/wiki/Cross-validation_(statistics)>Cross-validatioin (Wikipedia)</a>\n",
        "\n",
        "### Questions\n",
        "1. Does averaging the validation accuracy across multiple splits give more consistent results?\n",
        "Yes, averaging the validation accuracy across multiple splits generally gives more consistent and reliable results. This approach, often referred to as **cross-validation**, helps to mitigate the variability that can arise from the specific choice of a single validation set. Here's why:\n",
        "\n",
        "1. **Reduction in Variance**: A single split of the data may not be representative of the overall distribution, and it could result in higher variance in the performance metrics. Averaging across multiple splits smooths out any idiosyncratic trends or biases present in a single validation set.\n",
        "\n",
        "2. **Better Generalization**: By using multiple different subsets of the data for validation, you ensure that your model's performance is evaluated on various portions of the data, improving the estimate of how well the model generalizes to unseen data.\n",
        "\n",
        "3. **Minimizing Overfitting to the Validation Set**: In a single split, there’s a risk of the model overfitting to the validation set, particularly if the model is complex. By averaging over multiple splits, you reduce the likelihood that your model is overly tailored to a specific subset of the data.\n",
        "\n",
        "### How it works:\n",
        "In k-fold cross-validation, for instance, the data is divided into k parts (or folds). The model is trained on k-1 folds and tested on the remaining fold. This process is repeated k times, with each fold serving as the validation set once. The final result is the average performance metric (such as accuracy) across all the splits.\n",
        "\n",
        "### Example:\n",
        "- **Without averaging**: If you evaluate on a single validation set, the accuracy might be 85%, but this could be a result of lucky or unlucky splits.\n",
        "- **With averaging**: By running k-fold cross-validation (say 5-fold), you might get validation accuracies of 80%, 83%, 87%, 85%, and 90%. Averaging these gives a more reliable and consistent estimate of model performance (85% in this case), reducing the influence of a single outlier.\n",
        "\n",
        "### Conclusion:\n",
        "Averaging validation accuracy across multiple splits helps provide a more stable and consistent evaluation of your model's performance, especially when working with limited data.\n",
        "\n",
        "2. Does it give more accurate estimate of test accuracy?\n",
        "Averaging the validation accuracy across multiple splits does not directly give a **more accurate estimate of test accuracy**, but it does provide a **better estimate of how well the model is likely to perform on unseen data**. Here's a breakdown:\n",
        "\n",
        "### Key Differences Between Validation and Test Accuracy\n",
        "\n",
        "- **Validation Accuracy**: This is the accuracy of your model on a separate validation set (a subset of the training data) during training. Cross-validation helps improve the reliability of this estimate by averaging across multiple splits of the data.\n",
        "- **Test Accuracy**: This is the performance of your model on a completely separate test set that the model has never seen during training or validation. The test set is meant to simulate the performance of your model on truly unseen data.\n",
        "\n",
        "### Does Averaging Validation Accuracy Improve the Estimate of Test Accuracy?\n",
        "\n",
        "- **Indirect Improvement**: By using multiple validation splits (such as in cross-validation), you get a better estimate of your model's **generalization ability** because it reduces the risk of overfitting to a specific validation set. A more reliable validation accuracy can help you choose a model or hyperparameters that are more likely to perform well on the test set.\n",
        "  \n",
        "  However, this does **not** directly provide a more accurate estimate of the test set performance itself. The test set is a completely separate entity that ideally should not be used during training or validation.\n",
        "\n",
        "- **Overfitting Mitigation**: Cross-validation helps reduce the risk of overfitting to the validation set, which in turn may make the model more likely to generalize well to the test set. This makes the **validation accuracy** a more reliable indicator of how the model might perform on the test set. However, even with cross-validation, the true test performance can still differ slightly, especially if the test set is small or not perfectly representative.\n",
        "\n",
        "### When You Get More Accurate Test Accuracy Estimates:\n",
        "- **External Testing**: The most accurate estimate of test accuracy comes when you have a separate, untouched test set. If you're using cross-validation to tune models or select features, this can give you confidence that your model is likely to perform well on the test set, but you won't know the true performance on the test set until you evaluate it.\n",
        "\n",
        "- **Large Datasets**: In scenarios with large amounts of data, cross-validation can give a better estimate of the test accuracy because each fold in the cross-validation uses a different subset of data. In these cases, the validation accuracy can serve as a reasonable proxy for test accuracy.\n",
        "\n",
        "### Summary:\n",
        "\n",
        "- **Cross-validation improves the consistency and reliability of your validation accuracy**, which indirectly helps in making better decisions regarding model selection and tuning.\n",
        "- **Averaging validation accuracy does not directly give a more accurate estimate of test accuracy**, but it does provide a more stable estimate of model performance across different subsets of data. The actual test accuracy will only be known after evaluating the model on a completely separate test set.\n",
        "\n",
        "3. What is the effect of the number of iterations on the estimate? Do we get a better estimate with higher iterations?\n",
        "Yes, **increasing the number of iterations** (or folds in cross-validation) can generally lead to **a more reliable estimate** of model performance, but the effect depends on the context and specific goals. Here's a breakdown of how the number of iterations (or folds) affects the estimate:\n",
        "\n",
        "### 1. **Effect on Stability and Variability of the Estimate**\n",
        "- **Fewer iterations** (e.g., in 3-fold cross-validation) may result in a less stable estimate of performance. This is because each fold may be influenced by different data characteristics, and with fewer folds, the results are more likely to vary depending on the specific data split. This can lead to more variability in the performance estimates.\n",
        "  \n",
        "- **More iterations** (e.g., in 10-fold cross-validation) provide a better and more stable estimate of model performance. With more splits, the model is validated on a greater variety of data subsets, reducing the chance that a single, unrepresentative split skews the performance estimate.\n",
        "\n",
        "### 2. **Effect on the Bias-Variance Tradeoff**\n",
        "- **Higher number of iterations (folds)** typically results in a **lower bias** in the performance estimate. With more folds, the model is evaluated on more different data subsets, giving a more comprehensive view of how well it generalizes across the entire dataset.\n",
        "  \n",
        "- However, **increasing the number of iterations** (e.g., using a very high number of folds like 20 or more) may also lead to higher computational cost and may result in diminishing returns. Once you have enough folds (e.g., 10-fold), additional folds may not significantly improve the estimate.\n",
        "\n",
        "### 3. **Effect on Overfitting and Underfitting**\n",
        "- **More iterations** reduce the chance of **overfitting** to a particular validation set, as each fold trains and tests on different portions of the data. This can lead to a more accurate reflection of the model's generalization capability.\n",
        "  \n",
        "- Conversely, fewer iterations can sometimes lead to **underfitting** since the model might not have been sufficiently tested on a diverse set of data splits.\n",
        "\n",
        "### 4. **Impact on Computational Time**\n",
        "- **More iterations** take longer to run. For instance, in 10-fold cross-validation, the model is trained and tested 10 times, while in 3-fold, it is done 3 times. The trade-off between the number of folds and the computational resources needed should be considered based on the problem at hand and the size of the dataset.\n",
        "\n",
        "### 5. **Practical Recommendations:**\n",
        "- **For smaller datasets**: More folds (e.g., 10-fold or even leave-one-out cross-validation) tend to give better estimates since each fold uses a larger portion of the data for training, making each estimate less noisy.\n",
        "  \n",
        "- **For larger datasets**: The benefits of increasing folds diminish after a certain point. For example, going from 3-fold to 5-fold cross-validation may give a significant improvement, but going from 10-fold to 20-fold may yield only marginal gains in performance estimate quality.\n",
        "\n",
        "### 6. **Diminishing Returns**:\n",
        "- **Beyond a certain number of iterations**, the improvement in the estimate becomes minimal. For instance, after 10 folds, most of the improvement in the stability of the estimate tends to level off. Hence, there's a sweet spot, typically around 5–10 folds, for most problems. In extreme cases (such as leave-one-out cross-validation, or LOOCV), the number of folds equals the number of data points, which can be computationally expensive with limited additional benefit in performance estimation for larger datasets.\n",
        "\n",
        "### Summary:\n",
        "- **Higher number of iterations** generally leads to a **more reliable, stable estimate** of model performance by reducing variability in the evaluation results.\n",
        "- For most practical purposes, **10-fold cross-validation** is a common and efficient choice, balancing computational cost and performance estimate accuracy.\n",
        "- After a certain number of iterations, the **benefits level off** (diminishing returns), so there is no need to use excessively large numbers of folds unless the dataset is very small.\n",
        "\n",
        "4. Consider the results you got for the previous questions. Can we deal with a very small train dataset or validation dataset by increasing the iterations?\n",
        "In the context of a **very small training or validation dataset**, **increasing the number of iterations (or folds in cross-validation)** can help mitigate some challenges, but it is not a perfect solution. Here's how increasing the number of iterations interacts with small datasets, along with potential advantages and limitations:\n",
        "\n",
        "### 1. **Benefits of Increasing Iterations with Small Datasets**\n",
        "\n",
        "- **More Comprehensive Validation**: In a small dataset, each data point is more valuable because the model has less data to learn from. Increasing the number of iterations (or folds) allows each data point to be included in both the training and validation sets multiple times. This increases the **diversity of the validation data**, leading to a better estimate of model performance. For example, in **leave-one-out cross-validation (LOOCV)**, each point is treated as the validation set exactly once, ensuring that every piece of data contributes to model evaluation.\n",
        "  \n",
        "- **Reduction of Overfitting to Validation Data**: Small datasets can cause overfitting to the validation set because the model may memorize or become too finely tuned to it. By increasing the number of folds, the model is validated on multiple different subsets of the data, which can reduce this risk.\n",
        "\n",
        "- **More Reliable Performance Estimate**: With very small datasets, a single validation set may not be representative of the full data distribution, leading to noisy or biased performance estimates. By increasing the number of folds, you improve the reliability of the performance metric by averaging over more splits of the data.\n",
        "\n",
        "### 2. **Limitations of Increasing Iterations with Small Datasets**\n",
        "\n",
        "- **Increased Variance**: While using more iterations gives you a more stable performance estimate, it doesn't solve the fundamental problem of limited data. With extremely small datasets, even cross-validation with many folds may still suffer from high variance in the performance estimates. For instance, in LOOCV, where the model is trained on almost all the data except one point, this can still result in a highly variable performance metric depending on which data point is left out.\n",
        "\n",
        "- **No Substitute for More Data**: Increasing the number of folds can give a better estimate of model performance, but it doesn’t replace the need for more data. Small datasets are inherently prone to overfitting, and cross-validation can only reduce the overfitting to the validation set — it doesn't solve the underlying issue of having insufficient data to adequately train the model. More data is often the most effective way to improve model performance and reduce overfitting.\n",
        "\n",
        "- **Computational Complexity**: In cases with small datasets, LOOCV or very high numbers of folds may not significantly help, and it could still be computationally expensive for limited gains.\n",
        "\n",
        "### 3. **Alternative Approaches for Small Datasets**\n",
        "\n",
        "While increasing the number of iterations in cross-validation helps to some extent, here are other strategies you can consider when working with a very small dataset:\n",
        "\n",
        "- **Data Augmentation**: This is often used in fields like image and text classification, where you artificially expand the training data by generating new data points through transformations (such as rotating images or paraphrasing sentences). This can help create a larger training set, reducing the risk of overfitting.\n",
        "\n",
        "- **Transfer Learning**: You can use a pre-trained model (trained on a larger dataset) and fine-tune it with your small dataset. This leverages knowledge from a larger corpus and can work well when you don't have enough data for training from scratch.\n",
        "\n",
        "- **Regularization**: Techniques like L2 regularization (Ridge regression) or dropout (in neural networks) can help prevent overfitting when you have limited data by penalizing overly complex models.\n",
        "\n",
        "- **Bayesian Methods**: These can incorporate prior knowledge into the model and work well with small datasets by combining the data with prior beliefs to improve predictions.\n",
        "\n",
        "### 4. **Summary**\n",
        "\n",
        "- **Increasing the number of folds** can help get a more stable estimate of model performance, especially in small datasets, by ensuring that each data point contributes to training and validation multiple times.\n",
        "- However, it **does not replace the need for more data**. Small datasets are still prone to overfitting, and increasing iterations alone cannot fully mitigate this.\n",
        "- You should consider **combining cross-validation with other techniques**, such as data augmentation, transfer learning, or regularization, to better handle small datasets.\n",
        "\n",
        "In conclusion, while more iterations improve performance estimates and reduce overfitting to a specific validation split, the **root challenge** in small datasets is still the lack of enough data, which requires additional techniques to properly handle."
      ]
    },
    {
      "cell_type": "markdown",
      "metadata": {
        "id": "z-SBxy1qevgJ"
      },
      "source": [
        "> Exercise: How does the accuracy of the 3 nearest neighbour classifier change with the number of splits? How is it affected by the split size? Compare the results with the 1 nearest neighbour classifier."
      ]
    }
  ],
  "metadata": {
    "colab": {
      "provenance": [],
      "include_colab_link": true
    },
    "kernelspec": {
      "display_name": "Python 3",
      "name": "python3"
    },
    "language_info": {
      "codemirror_mode": {
        "name": "ipython",
        "version": 3
      },
      "file_extension": ".py",
      "mimetype": "text/x-python",
      "name": "python",
      "nbconvert_exporter": "python",
      "pygments_lexer": "ipython3",
      "version": "3.10.10"
    }
  },
  "nbformat": 4,
  "nbformat_minor": 0
}